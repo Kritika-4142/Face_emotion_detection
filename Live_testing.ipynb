{
 "cells": [
  {
   "cell_type": "code",
   "execution_count": 4,
   "metadata": {},
   "outputs": [
    {
     "data": {
      "text/plain": "<function destroyAllWindows>"
     },
     "execution_count": 4,
     "metadata": {},
     "output_type": "execute_result"
    }
   ],
   "source": [
    "#videotesting file\r\n",
    "import os  \r\n",
    "import cv2  \r\n",
    "import numpy as np \r\n",
    "import tensorflow \r\n",
    "from tensorflow.keras.models import model_from_json  \r\n",
    "from tensorflow.keras.preprocessing import image  \r\n",
    "\r\n",
    "#load model  \r\n",
    "model = model_from_json(open(r\"C:\\Users\\This PC\\Downloads\\Human emotion detection\\fer.json\", \"r\").read())  \r\n",
    "#load weights  \r\n",
    "model.load_weights(r'C:\\Users\\This PC\\Downloads\\Human emotion detection\\fer.h5')  \r\n",
    "\r\n",
    "\r\n",
    "face_haar_cascade = cv2.CascadeClassifier(r'C:\\Users\\This PC\\Downloads\\Human emotion detection\\haarcascade_frontalface_default.xml')  \r\n",
    "\r\n",
    "\r\n",
    "cap=cv2.VideoCapture(0)  \r\n",
    "\r\n",
    "while True:  \r\n",
    "    ret,test_img=cap.read()# captures frame and returns boolean value and captured image  \r\n",
    "    if not ret:  \r\n",
    "        continue  \r\n",
    "    gray_img= cv2.cvtColor(test_img, cv2.COLOR_BGR2GRAY)  \r\n",
    "\r\n",
    "    faces_detected = face_haar_cascade.detectMultiScale(gray_img, 1.32, 5)  \r\n",
    "\r\n",
    "\r\n",
    "    for (x,y,w,h) in faces_detected:  \r\n",
    "        cv2.rectangle(test_img,(x,y),(x+w,y+h),(255,0,0),thickness=7)  \r\n",
    "        roi_gray=gray_img[y:y+w,x:x+h]#cropping region of interest i.e. face area from  image  \r\n",
    "        roi_gray=cv2.resize(roi_gray,(48,48))  \r\n",
    "        img_pixels = image.img_to_array(roi_gray)  \r\n",
    "        img_pixels = np.expand_dims(img_pixels, axis = 0)  \r\n",
    "        img_pixels /= 255  \r\n",
    "\r\n",
    "        predictions = model.predict(img_pixels)  \r\n",
    "\r\n",
    "        #find max indexed array  \r\n",
    "        max_index = np.argmax(predictions[0])  \r\n",
    "\r\n",
    "        emotions = ('angry', 'disgust', 'fear', 'happy', 'sad', 'surprise', 'neutral')  \r\n",
    "        predicted_emotion = emotions[max_index]  \r\n",
    "\r\n",
    "        cv2.putText(test_img, predicted_emotion, (int(x), int(y)), cv2.FONT_HERSHEY_SIMPLEX, 1, (0,0,255), 2)  \r\n",
    "\r\n",
    "    resized_img = cv2.resize(test_img, (1000, 700))  \r\n",
    "    cv2.imshow('Facial emotion analysis ',resized_img)  \r\n",
    "\r\n",
    "\r\n",
    "\r\n",
    "    if cv2.waitKey(10) == ord('q'):#wait until 'q' key is pressed  \r\n",
    "        break  \r\n",
    "\r\n",
    "cap.release()  \r\n",
    "cv2.destroyAllWindows "
   ]
  }
 ],
 "metadata": {
  "kernelspec": {
   "display_name": "Python 3.8.5 64-bit ('base': conda)",
   "name": "python385jvsc74a57bd075d5fa5647ed718dff6db6e19cb5826cae172c65e0d9788c078b693ea2246e0d"
  },
  "language_info": {
   "codemirror_mode": {
    "name": "ipython",
    "version": 3
   },
   "file_extension": ".py",
   "mimetype": "text/x-python",
   "name": "python",
   "nbconvert_exporter": "python",
   "pygments_lexer": "ipython3",
   "version": "3.8.5"
  },
  "metadata": {
   "interpreter": {
    "hash": "75d5fa5647ed718dff6db6e19cb5826cae172c65e0d9788c078b693ea2246e0d"
   }
  },
  "orig_nbformat": 2
 },
 "nbformat": 4,
 "nbformat_minor": 2
}