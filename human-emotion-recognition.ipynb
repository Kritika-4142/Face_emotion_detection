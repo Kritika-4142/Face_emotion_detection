{
 "cells": [
  {
   "cell_type": "code",
   "execution_count": 1,
   "id": "58d4280a",
   "metadata": {
    "_cell_guid": "b1076dfc-b9ad-4769-8c92-a6c4dae69d19",
    "_uuid": "8f2839f25d086af736a60e9eeb907d3b93b6e0e5",
    "execution": {
     "iopub.execute_input": "2021-11-30T13:51:48.598710Z",
     "iopub.status.busy": "2021-11-30T13:51:48.597174Z",
     "iopub.status.idle": "2021-11-30T13:51:54.095481Z",
     "shell.execute_reply": "2021-11-30T13:51:54.095983Z",
     "shell.execute_reply.started": "2021-11-30T13:45:45.845155Z"
    },
    "papermill": {
     "duration": 5.520051,
     "end_time": "2021-11-30T13:51:54.096288",
     "exception": false,
     "start_time": "2021-11-30T13:51:48.576237",
     "status": "completed"
    },
    "tags": []
   },
   "outputs": [
    {
     "name": "stdout",
     "output_type": "stream",
     "text": [
      "/kaggle/input/fer2013/fer2013.csv\n"
     ]
    }
   ],
   "source": [
    "import numpy as np # linear algebra\n",
    "import pandas as pd # data processing, CSV file I/O (e.g. pd.read_csv)\n",
    "\n",
    "import os\n",
    "for dirname, _, filenames in os.walk('/kaggle/input'):\n",
    "    for filename in filenames:\n",
    "        print(os.path.join(dirname, filename))\n",
    "\n",
    "import cv2\n",
    "import seaborn as sns\n",
    "\n",
    "from matplotlib import pyplot as plt\n",
    "%matplotlib inline\n",
    "\n",
    "import tensorflow as tf \n",
    "from keras.utils import np_utils\n",
    "# for cnn model\n",
    "import keras\n",
    "from keras.preprocessing import sequence\n",
    "from keras.models import Sequential\n",
    "from keras.layers import Dense, Embedding\n",
    "from keras.layers import LSTM,BatchNormalization\n",
    "from keras.preprocessing.text import Tokenizer\n",
    "from keras.preprocessing.sequence import pad_sequences\n",
    "from tensorflow.keras.utils import to_categorical\n",
    "from keras.layers import Input, Flatten, Dropout, Activation\n",
    "from keras.layers import Conv1D, MaxPooling1D, AveragePooling1D\n",
    "from keras.layers import Dense, Conv2D, UpSampling2D, MaxPooling2D, ZeroPadding2D, Reshape\n",
    "from keras.models import Model\n",
    "from keras.callbacks import ModelCheckpoint\n",
    "from keras import backend as K"
   ]
  },
  {
   "cell_type": "code",
   "execution_count": 2,
   "id": "d3154945",
   "metadata": {
    "execution": {
     "iopub.execute_input": "2021-11-30T13:51:54.134430Z",
     "iopub.status.busy": "2021-11-30T13:51:54.133850Z",
     "iopub.status.idle": "2021-11-30T13:51:59.263450Z",
     "shell.execute_reply": "2021-11-30T13:51:59.262977Z",
     "shell.execute_reply.started": "2021-11-30T13:45:51.335601Z"
    },
    "papermill": {
     "duration": 5.150041,
     "end_time": "2021-11-30T13:51:59.263581",
     "exception": false,
     "start_time": "2021-11-30T13:51:54.113540",
     "status": "completed"
    },
    "tags": []
   },
   "outputs": [
    {
     "data": {
      "text/html": [
       "<div>\n",
       "<style scoped>\n",
       "    .dataframe tbody tr th:only-of-type {\n",
       "        vertical-align: middle;\n",
       "    }\n",
       "\n",
       "    .dataframe tbody tr th {\n",
       "        vertical-align: top;\n",
       "    }\n",
       "\n",
       "    .dataframe thead th {\n",
       "        text-align: right;\n",
       "    }\n",
       "</style>\n",
       "<table border=\"1\" class=\"dataframe\">\n",
       "  <thead>\n",
       "    <tr style=\"text-align: right;\">\n",
       "      <th></th>\n",
       "      <th>emotion</th>\n",
       "      <th>pixels</th>\n",
       "      <th>Usage</th>\n",
       "    </tr>\n",
       "  </thead>\n",
       "  <tbody>\n",
       "    <tr>\n",
       "      <th>0</th>\n",
       "      <td>0</td>\n",
       "      <td>70 80 82 72 58 58 60 63 54 58 60 48 89 115 121...</td>\n",
       "      <td>Training</td>\n",
       "    </tr>\n",
       "    <tr>\n",
       "      <th>1</th>\n",
       "      <td>0</td>\n",
       "      <td>151 150 147 155 148 133 111 140 170 174 182 15...</td>\n",
       "      <td>Training</td>\n",
       "    </tr>\n",
       "    <tr>\n",
       "      <th>2</th>\n",
       "      <td>2</td>\n",
       "      <td>231 212 156 164 174 138 161 173 182 200 106 38...</td>\n",
       "      <td>Training</td>\n",
       "    </tr>\n",
       "    <tr>\n",
       "      <th>3</th>\n",
       "      <td>4</td>\n",
       "      <td>24 32 36 30 32 23 19 20 30 41 21 22 32 34 21 1...</td>\n",
       "      <td>Training</td>\n",
       "    </tr>\n",
       "    <tr>\n",
       "      <th>4</th>\n",
       "      <td>6</td>\n",
       "      <td>4 0 0 0 0 0 0 0 0 0 0 0 3 15 23 28 48 50 58 84...</td>\n",
       "      <td>Training</td>\n",
       "    </tr>\n",
       "    <tr>\n",
       "      <th>5</th>\n",
       "      <td>2</td>\n",
       "      <td>55 55 55 55 55 54 60 68 54 85 151 163 170 179 ...</td>\n",
       "      <td>Training</td>\n",
       "    </tr>\n",
       "    <tr>\n",
       "      <th>6</th>\n",
       "      <td>4</td>\n",
       "      <td>20 17 19 21 25 38 42 42 46 54 56 62 63 66 82 1...</td>\n",
       "      <td>Training</td>\n",
       "    </tr>\n",
       "    <tr>\n",
       "      <th>7</th>\n",
       "      <td>3</td>\n",
       "      <td>77 78 79 79 78 75 60 55 47 48 58 73 77 79 57 5...</td>\n",
       "      <td>Training</td>\n",
       "    </tr>\n",
       "    <tr>\n",
       "      <th>8</th>\n",
       "      <td>3</td>\n",
       "      <td>85 84 90 121 101 102 133 153 153 169 177 189 1...</td>\n",
       "      <td>Training</td>\n",
       "    </tr>\n",
       "    <tr>\n",
       "      <th>9</th>\n",
       "      <td>2</td>\n",
       "      <td>255 254 255 254 254 179 122 107 95 124 149 150...</td>\n",
       "      <td>Training</td>\n",
       "    </tr>\n",
       "  </tbody>\n",
       "</table>\n",
       "</div>"
      ],
      "text/plain": [
       "   emotion                                             pixels     Usage\n",
       "0        0  70 80 82 72 58 58 60 63 54 58 60 48 89 115 121...  Training\n",
       "1        0  151 150 147 155 148 133 111 140 170 174 182 15...  Training\n",
       "2        2  231 212 156 164 174 138 161 173 182 200 106 38...  Training\n",
       "3        4  24 32 36 30 32 23 19 20 30 41 21 22 32 34 21 1...  Training\n",
       "4        6  4 0 0 0 0 0 0 0 0 0 0 0 3 15 23 28 48 50 58 84...  Training\n",
       "5        2  55 55 55 55 55 54 60 68 54 85 151 163 170 179 ...  Training\n",
       "6        4  20 17 19 21 25 38 42 42 46 54 56 62 63 66 82 1...  Training\n",
       "7        3  77 78 79 79 78 75 60 55 47 48 58 73 77 79 57 5...  Training\n",
       "8        3  85 84 90 121 101 102 133 153 153 169 177 189 1...  Training\n",
       "9        2  255 254 255 254 254 179 122 107 95 124 149 150...  Training"
      ]
     },
     "execution_count": 2,
     "metadata": {},
     "output_type": "execute_result"
    }
   ],
   "source": [
    "data = pd.read_csv(\"../input/fer2013/fer2013.csv\")\n",
    "data.head(10)"
   ]
  },
  {
   "cell_type": "code",
   "execution_count": 3,
   "id": "620f48fa",
   "metadata": {
    "execution": {
     "iopub.execute_input": "2021-11-30T13:51:59.305861Z",
     "iopub.status.busy": "2021-11-30T13:51:59.305020Z",
     "iopub.status.idle": "2021-11-30T13:51:59.309276Z",
     "shell.execute_reply": "2021-11-30T13:51:59.308802Z",
     "shell.execute_reply.started": "2021-11-30T13:45:56.384953Z"
    },
    "papermill": {
     "duration": 0.030935,
     "end_time": "2021-11-30T13:51:59.309391",
     "exception": false,
     "start_time": "2021-11-30T13:51:59.278456",
     "status": "completed"
    },
    "tags": []
   },
   "outputs": [
    {
     "data": {
      "text/plain": [
       "Training       28709\n",
       "PublicTest      3589\n",
       "PrivateTest     3589\n",
       "Name: Usage, dtype: int64"
      ]
     },
     "execution_count": 3,
     "metadata": {},
     "output_type": "execute_result"
    }
   ],
   "source": [
    "data.Usage.value_counts()"
   ]
  },
  {
   "cell_type": "code",
   "execution_count": 4,
   "id": "8d92c16d",
   "metadata": {
    "execution": {
     "iopub.execute_input": "2021-11-30T13:51:59.343701Z",
     "iopub.status.busy": "2021-11-30T13:51:59.343152Z",
     "iopub.status.idle": "2021-11-30T13:51:59.346886Z",
     "shell.execute_reply": "2021-11-30T13:51:59.346434Z",
     "shell.execute_reply.started": "2021-11-30T13:45:56.401222Z"
    },
    "papermill": {
     "duration": 0.022262,
     "end_time": "2021-11-30T13:51:59.346997",
     "exception": false,
     "start_time": "2021-11-30T13:51:59.324735",
     "status": "completed"
    },
    "tags": []
   },
   "outputs": [],
   "source": [
    "X = data['pixels']\n",
    "y = data['emotion']"
   ]
  },
  {
   "cell_type": "code",
   "execution_count": 5,
   "id": "c5ffab7b",
   "metadata": {
    "execution": {
     "iopub.execute_input": "2021-11-30T13:51:59.381463Z",
     "iopub.status.busy": "2021-11-30T13:51:59.380772Z",
     "iopub.status.idle": "2021-11-30T13:51:59.764368Z",
     "shell.execute_reply": "2021-11-30T13:51:59.763867Z",
     "shell.execute_reply.started": "2021-11-30T13:45:56.412547Z"
    },
    "papermill": {
     "duration": 0.402534,
     "end_time": "2021-11-30T13:51:59.764512",
     "exception": false,
     "start_time": "2021-11-30T13:51:59.361978",
     "status": "completed"
    },
    "tags": []
   },
   "outputs": [
    {
     "data": {
      "image/png": "[encoded data removed]",
      "text/plain": [
       "<Figure size 432x288 with 1 Axes>"
      ]
     },
     "metadata": {},
     "output_type": "display_data"
    }
   ],
   "source": [
    "sns.set_theme(style=\"darkgrid\")\n",
    "ax = sns.countplot(x=\"emotion\", data=data)"
   ]
  },
  {
   "cell_type": "code",
   "execution_count": 6,
   "id": "f8fe8eaf",
   "metadata": {
    "execution": {
     "iopub.execute_input": "2021-11-30T13:51:59.805390Z",
     "iopub.status.busy": "2021-11-30T13:51:59.799973Z",
     "iopub.status.idle": "2021-11-30T13:51:59.816470Z",
     "shell.execute_reply": "2021-11-30T13:51:59.816001Z",
     "shell.execute_reply.started": "2021-11-30T13:45:56.813796Z"
    },
    "papermill": {
     "duration": 0.036205,
     "end_time": "2021-11-30T13:51:59.816579",
     "exception": false,
     "start_time": "2021-11-30T13:51:59.780374",
     "status": "completed"
    },
    "tags": []
   },
   "outputs": [],
   "source": [
    "train_set = data[(data.Usage == 'Training')] \n",
    "test_set = data[(data.Usage == 'PrivateTest')] "
   ]
  },
  {
   "cell_type": "code",
   "execution_count": 7,
   "id": "391c8adb",
   "metadata": {
    "execution": {
     "iopub.execute_input": "2021-11-30T13:52:25.293094Z",
     "iopub.status.busy": "2021-11-30T13:52:25.283791Z",
     "iopub.status.idle": "2021-11-30T13:52:27.721771Z",
     "shell.execute_reply": "2021-11-30T13:52:27.721266Z",
     "shell.execute_reply.started": "2021-11-30T13:45:56.836580Z"
    },
    "papermill": {
     "duration": 27.889426,
     "end_time": "2021-11-30T13:52:27.721907",
     "exception": false,
     "start_time": "2021-11-30T13:51:59.832481",
     "status": "completed"
    },
    "tags": []
   },
   "outputs": [],
   "source": [
    "X_train = np.array(list(map(str.split, train_set.pixels)), np.float32) \n",
    "X_test = np.array(list(map(str.split, test_set.pixels)), np.float32) \n",
    "X_train = X_train.reshape(X_train.shape[0], 48, 48, 1) \n",
    "X_test = X_test.reshape(X_test.shape[0], 48, 48, 1)"
   ]
  },
  {
   "cell_type": "code",
   "execution_count": 8,
   "id": "5c9b74bf",
   "metadata": {
    "execution": {
     "iopub.execute_input": "2021-11-30T13:52:27.758511Z",
     "iopub.status.busy": "2021-11-30T13:52:27.757412Z",
     "iopub.status.idle": "2021-11-30T13:52:27.810518Z",
     "shell.execute_reply": "2021-11-30T13:52:27.810907Z",
     "shell.execute_reply.started": "2021-11-30T13:46:25.045686Z"
    },
    "papermill": {
     "duration": 0.073144,
     "end_time": "2021-11-30T13:52:27.811049",
     "exception": false,
     "start_time": "2021-11-30T13:52:27.737905",
     "status": "completed"
    },
    "tags": []
   },
   "outputs": [],
   "source": [
    "X_train=X_train/255\n",
    "X_test=X_test/255"
   ]
  },
  {
   "cell_type": "code",
   "execution_count": 9,
   "id": "94581955",
   "metadata": {
    "execution": {
     "iopub.execute_input": "2021-11-30T13:52:27.848203Z",
     "iopub.status.busy": "2021-11-30T13:52:27.846138Z",
     "iopub.status.idle": "2021-11-30T13:52:27.848793Z",
     "shell.execute_reply": "2021-11-30T13:52:27.849335Z",
     "shell.execute_reply.started": "2021-11-30T13:46:25.114673Z"
    },
    "papermill": {
     "duration": 0.022586,
     "end_time": "2021-11-30T13:52:27.849467",
     "exception": false,
     "start_time": "2021-11-30T13:52:27.826881",
     "status": "completed"
    },
    "tags": []
   },
   "outputs": [],
   "source": [
    "y_train = train_set.emotion  \n",
    "y_test = test_set.emotion "
   ]
  },
  {
   "cell_type": "code",
   "execution_count": 10,
   "id": "db40f1f0",
   "metadata": {
    "execution": {
     "iopub.execute_input": "2021-11-30T13:52:27.885251Z",
     "iopub.status.busy": "2021-11-30T13:52:27.884694Z",
     "iopub.status.idle": "2021-11-30T13:52:27.887380Z",
     "shell.execute_reply": "2021-11-30T13:52:27.886943Z",
     "shell.execute_reply.started": "2021-11-30T13:46:25.129088Z"
    },
    "papermill": {
     "duration": 0.02229,
     "end_time": "2021-11-30T13:52:27.887497",
     "exception": false,
     "start_time": "2021-11-30T13:52:27.865207",
     "status": "completed"
    },
    "tags": []
   },
   "outputs": [],
   "source": [
    "y_train = np_utils.to_categorical(y_train, 7)\n",
    "y_test = np_utils.to_categorical(y_test, 7)"
   ]
  },
  {
   "cell_type": "code",
   "execution_count": 11,
   "id": "8d34268d",
   "metadata": {
    "execution": {
     "iopub.execute_input": "2021-11-30T13:52:27.923379Z",
     "iopub.status.busy": "2021-11-30T13:52:27.922769Z",
     "iopub.status.idle": "2021-11-30T13:52:27.925739Z",
     "shell.execute_reply": "2021-11-30T13:52:27.926142Z",
     "shell.execute_reply.started": "2021-11-30T13:46:25.140097Z"
    },
    "papermill": {
     "duration": 0.023247,
     "end_time": "2021-11-30T13:52:27.926280",
     "exception": false,
     "start_time": "2021-11-30T13:52:27.903033",
     "status": "completed"
    },
    "tags": []
   },
   "outputs": [
    {
     "data": {
      "text/plain": [
       "(3589, 7)"
      ]
     },
     "execution_count": 11,
     "metadata": {},
     "output_type": "execute_result"
    }
   ],
   "source": [
    "y_test.shape"
   ]
  },
  {
   "cell_type": "code",
   "execution_count": 12,
   "id": "933719c4",
   "metadata": {
    "execution": {
     "iopub.execute_input": "2021-11-30T13:52:27.962077Z",
     "iopub.status.busy": "2021-11-30T13:52:27.961367Z",
     "iopub.status.idle": "2021-11-30T13:52:27.963858Z",
     "shell.execute_reply": "2021-11-30T13:52:27.963456Z",
     "shell.execute_reply.started": "2021-11-30T13:46:25.150127Z"
    },
    "papermill": {
     "duration": 0.021997,
     "end_time": "2021-11-30T13:52:27.963959",
     "exception": false,
     "start_time": "2021-11-30T13:52:27.941962",
     "status": "completed"
    },
    "tags": []
   },
   "outputs": [],
   "source": [
    "from keras.callbacks import ReduceLROnPlateau\n",
    "lr_reduce = ReduceLROnPlateau(monitor='val_acc', factor=0.1, epsilon=0.0001, patience=1, verbose=1)"
   ]
  },
  {
   "cell_type": "code",
   "execution_count": 13,
   "id": "36d3000b",
   "metadata": {
    "execution": {
     "iopub.execute_input": "2021-11-30T13:52:28.005409Z",
     "iopub.status.busy": "2021-11-30T13:52:28.002379Z",
     "iopub.status.idle": "2021-11-30T13:52:30.168475Z",
     "shell.execute_reply": "2021-11-30T13:52:30.168874Z",
     "shell.execute_reply.started": "2021-11-30T13:46:25.157975Z"
    },
    "papermill": {
     "duration": 2.18927,
     "end_time": "2021-11-30T13:52:30.169024",
     "exception": false,
     "start_time": "2021-11-30T13:52:27.979754",
     "status": "completed"
    },
    "tags": []
   },
   "outputs": [
    {
     "name": "stderr",
     "output_type": "stream",
     "text": [
      "2021-11-30 13:52:28.070272: I tensorflow/stream_executor/cuda/cuda_gpu_executor.cc:937] successful NUMA node read from SysFS had negative value (-1), but there must be at least one NUMA node, so returning NUMA node zero\n",
      "2021-11-30 13:52:28.158455: I tensorflow/stream_executor/cuda/cuda_gpu_executor.cc:937] successful NUMA node read from SysFS had negative value (-1), but there must be at least one NUMA node, so returning NUMA node zero\n",
      "2021-11-30 13:52:28.159158: I tensorflow/stream_executor/cuda/cuda_gpu_executor.cc:937] successful NUMA node read from SysFS had negative value (-1), but there must be at least one NUMA node, so returning NUMA node zero\n",
      "2021-11-30 13:52:28.160285: I tensorflow/core/platform/cpu_feature_guard.cc:142] This TensorFlow binary is optimized with oneAPI Deep Neural Network Library (oneDNN) to use the following CPU instructions in performance-critical operations:  AVX2 AVX512F FMA\n",
      "To enable them in other operations, rebuild TensorFlow with the appropriate compiler flags.\n",
      "2021-11-30 13:52:28.161030: I tensorflow/stream_executor/cuda/cuda_gpu_executor.cc:937] successful NUMA node read from SysFS had negative value (-1), but there must be at least one NUMA node, so returning NUMA node zero\n",
      "2021-11-30 13:52:28.161860: I tensorflow/stream_executor/cuda/cuda_gpu_executor.cc:937] successful NUMA node read from SysFS had negative value (-1), but there must be at least one NUMA node, so returning NUMA node zero\n",
      "2021-11-30 13:52:28.162510: I tensorflow/stream_executor/cuda/cuda_gpu_executor.cc:937] successful NUMA node read from SysFS had negative value (-1), but there must be at least one NUMA node, so returning NUMA node zero\n",
      "2021-11-30 13:52:29.720032: I tensorflow/stream_executor/cuda/cuda_gpu_executor.cc:937] successful NUMA node read from SysFS had negative value (-1), but there must be at least one NUMA node, so returning NUMA node zero\n",
      "2021-11-30 13:52:29.720814: I tensorflow/stream_executor/cuda/cuda_gpu_executor.cc:937] successful NUMA node read from SysFS had negative value (-1), but there must be at least one NUMA node, so returning NUMA node zero\n",
      "2021-11-30 13:52:29.721458: I tensorflow/stream_executor/cuda/cuda_gpu_executor.cc:937] successful NUMA node read from SysFS had negative value (-1), but there must be at least one NUMA node, so returning NUMA node zero\n",
      "2021-11-30 13:52:29.722055: I tensorflow/core/common_runtime/gpu/gpu_device.cc:1510] Created device /job:localhost/replica:0/task:0/device:GPU:0 with 15403 MB memory:  -> device: 0, name: Tesla P100-PCIE-16GB, pci bus id: 0000:00:04.0, compute capability: 6.0\n"
     ]
    },
    {
     "name": "stdout",
     "output_type": "stream",
     "text": [
      "Model: \"sequential\"\n",
      "_________________________________________________________________\n",
      "Layer (type)                 Output Shape              Param #   \n",
      "=================================================================\n",
      "conv2d (Conv2D)              (None, 48, 48, 32)        320       \n",
      "_________________________________________________________________\n",
      "conv2d_1 (Conv2D)            (None, 48, 48, 32)        9248      \n",
      "_________________________________________________________________\n",
      "max_pooling2d (MaxPooling2D) (None, 24, 24, 32)        0         \n",
      "_________________________________________________________________\n",
      "conv2d_2 (Conv2D)            (None, 24, 24, 64)        18496     \n",
      "_________________________________________________________________\n",
      "conv2d_3 (Conv2D)            (None, 24, 24, 64)        36928     \n",
      "_________________________________________________________________\n",
      "max_pooling2d_1 (MaxPooling2 (None, 12, 12, 64)        0         \n",
      "_________________________________________________________________\n",
      "conv2d_4 (Conv2D)            (None, 12, 12, 96)        55392     \n",
      "_________________________________________________________________\n",
      "conv2d_5 (Conv2D)            (None, 10, 10, 96)        83040     \n",
      "_________________________________________________________________\n",
      "max_pooling2d_2 (MaxPooling2 (None, 5, 5, 96)          0         \n",
      "_________________________________________________________________\n",
      "conv2d_6 (Conv2D)            (None, 5, 5, 128)         110720    \n",
      "_________________________________________________________________\n",
      "conv2d_7 (Conv2D)            (None, 3, 3, 128)         147584    \n",
      "_________________________________________________________________\n",
      "max_pooling2d_3 (MaxPooling2 (None, 1, 1, 128)         0         \n",
      "_________________________________________________________________\n",
      "flatten (Flatten)            (None, 128)               0         \n",
      "_________________________________________________________________\n",
      "dense (Dense)                (None, 64)                8256      \n",
      "_________________________________________________________________\n",
      "dropout (Dropout)            (None, 64)                0         \n",
      "_________________________________________________________________\n",
      "dense_1 (Dense)              (None, 7)                 455       \n",
      "=================================================================\n",
      "Total params: 470,439\n",
      "Trainable params: 470,439\n",
      "Non-trainable params: 0\n",
      "_________________________________________________________________\n",
      "None\n"
     ]
    }
   ],
   "source": [
    "model = Sequential()\n",
    "\n",
    "model.add(Conv2D(32, (3, 3), activation='relu', padding=\"same\", input_shape=(X_train.shape[1:])))\n",
    "model.add(Conv2D(32, (3, 3), padding=\"same\", activation='relu'))\n",
    "model.add(MaxPooling2D(pool_size=(2, 2)))\n",
    "model.add(Conv2D(64, (3, 3), activation='relu', padding=\"same\"))\n",
    "model.add(Conv2D(64, (3, 3), padding=\"same\", activation='relu'))\n",
    "model.add(MaxPooling2D(pool_size=(2, 2)))\n",
    "model.add(Conv2D(96, (3, 3), dilation_rate=(2, 2), activation='relu', padding=\"same\"))\n",
    "model.add(Conv2D(96, (3, 3), padding=\"valid\", activation='relu'))\n",
    "model.add(MaxPooling2D(pool_size=(2, 2)))\n",
    "model.add(Conv2D(128, (3, 3), dilation_rate=(2, 2), activation='relu', padding=\"same\"))\n",
    "model.add(Conv2D(128, (3, 3), padding=\"valid\", activation='relu'))\n",
    "model.add(MaxPooling2D(pool_size=(2, 2)))\n",
    "model.add(Flatten())\n",
    "model.add(Dense(64, activation='relu'))\n",
    "model.add(Dropout(0.4))\n",
    "model.add(Dense(7 , activation='sigmoid'))\n",
    "\n",
    "model.compile(loss='binary_crossentropy',\n",
    "              optimizer='adam' ,\n",
    "              metrics=['accuracy'])\n",
    "\n",
    "print(model.summary())"
   ]
  },
  {
   "cell_type": "code",
   "execution_count": 14,
   "id": "898cae53",
   "metadata": {
    "execution": {
     "iopub.execute_input": "2021-11-30T13:52:30.216586Z",
     "iopub.status.busy": "2021-11-30T13:52:30.216014Z",
     "iopub.status.idle": "2021-11-30T13:56:53.177691Z",
     "shell.execute_reply": "2021-11-30T13:56:53.176962Z",
     "shell.execute_reply.started": "2021-11-30T13:46:27.480324Z"
    },
    "papermill": {
     "duration": 262.991885,
     "end_time": "2021-11-30T13:56:53.177866",
     "exception": false,
     "start_time": "2021-11-30T13:52:30.185981",
     "status": "completed"
    },
    "tags": []
   },
   "outputs": [
    {
     "name": "stderr",
     "output_type": "stream",
     "text": [
      "2021-11-30 13:52:30.522540: I tensorflow/compiler/mlir/mlir_graph_optimization_pass.cc:185] None of the MLIR Optimization Passes are enabled (registered 2)\n"
     ]
    },
    {
     "name": "stdout",
     "output_type": "stream",
     "text": [
      "Epoch 1/50\n"
     ]
    },
    {
     "name": "stderr",
     "output_type": "stream",
     "text": [
      "2021-11-30 13:52:31.962351: I tensorflow/stream_executor/cuda/cuda_dnn.cc:369] Loaded cuDNN version 8005\n"
     ]
    },
    {
     "name": "stdout",
     "output_type": "stream",
     "text": [
      "225/225 [==============================] - 12s 25ms/step - loss: 0.4248 - accuracy: 0.2109 - val_loss: 0.3891 - val_accuracy: 0.2513\n",
      "Epoch 2/50\n",
      "225/225 [==============================] - 6s 28ms/step - loss: 0.3985 - accuracy: 0.2283 - val_loss: 0.3895 - val_accuracy: 0.2515\n",
      "Epoch 3/50\n",
      "225/225 [==============================] - 5s 22ms/step - loss: 0.3921 - accuracy: 0.2488 - val_loss: 0.3822 - val_accuracy: 0.2702\n",
      "Epoch 4/50\n",
      "225/225 [==============================] - 5s 23ms/step - loss: 0.3687 - accuracy: 0.3289 - val_loss: 0.3248 - val_accuracy: 0.4315\n",
      "Epoch 5/50\n",
      "225/225 [==============================] - 5s 23ms/step - loss: 0.3191 - accuracy: 0.4494 - val_loss: 0.2914 - val_accuracy: 0.5002\n",
      "Epoch 6/50\n",
      "225/225 [==============================] - 5s 22ms/step - loss: 0.2953 - accuracy: 0.4982 - val_loss: 0.2820 - val_accuracy: 0.5301\n",
      "Epoch 7/50\n",
      "225/225 [==============================] - 5s 22ms/step - loss: 0.2796 - accuracy: 0.5358 - val_loss: 0.2585 - val_accuracy: 0.5707\n",
      "Epoch 8/50\n",
      "225/225 [==============================] - 5s 22ms/step - loss: 0.2658 - accuracy: 0.5608 - val_loss: 0.2422 - val_accuracy: 0.6021\n",
      "Epoch 9/50\n",
      "225/225 [==============================] - 5s 23ms/step - loss: 0.2523 - accuracy: 0.5931 - val_loss: 0.2303 - val_accuracy: 0.6255\n",
      "Epoch 10/50\n",
      "225/225 [==============================] - 5s 22ms/step - loss: 0.2380 - accuracy: 0.6217 - val_loss: 0.2129 - val_accuracy: 0.6657\n",
      "Epoch 11/50\n",
      "225/225 [==============================] - 5s 23ms/step - loss: 0.2231 - accuracy: 0.6519 - val_loss: 0.1967 - val_accuracy: 0.7002\n",
      "Epoch 12/50\n",
      "225/225 [==============================] - 5s 22ms/step - loss: 0.2076 - accuracy: 0.6806 - val_loss: 0.1738 - val_accuracy: 0.7349\n",
      "Epoch 13/50\n",
      "225/225 [==============================] - 5s 22ms/step - loss: 0.1900 - accuracy: 0.7151 - val_loss: 0.1585 - val_accuracy: 0.7701\n",
      "Epoch 14/50\n",
      "225/225 [==============================] - 5s 22ms/step - loss: 0.1726 - accuracy: 0.7481 - val_loss: 0.1458 - val_accuracy: 0.7904\n",
      "Epoch 15/50\n",
      "225/225 [==============================] - 5s 23ms/step - loss: 0.1546 - accuracy: 0.7781 - val_loss: 0.1223 - val_accuracy: 0.8361\n",
      "Epoch 16/50\n",
      "225/225 [==============================] - 5s 22ms/step - loss: 0.1361 - accuracy: 0.8069 - val_loss: 0.1022 - val_accuracy: 0.8637\n",
      "Epoch 17/50\n",
      "225/225 [==============================] - 6s 28ms/step - loss: 0.1225 - accuracy: 0.8325 - val_loss: 0.0875 - val_accuracy: 0.8824\n",
      "Epoch 18/50\n",
      "225/225 [==============================] - 5s 22ms/step - loss: 0.1049 - accuracy: 0.8587 - val_loss: 0.0838 - val_accuracy: 0.8856\n",
      "Epoch 19/50\n",
      "225/225 [==============================] - 5s 22ms/step - loss: 0.0936 - accuracy: 0.8772 - val_loss: 0.0692 - val_accuracy: 0.9106\n",
      "Epoch 20/50\n",
      "225/225 [==============================] - 5s 22ms/step - loss: 0.0814 - accuracy: 0.8947 - val_loss: 0.0566 - val_accuracy: 0.9283\n",
      "Epoch 21/50\n",
      "225/225 [==============================] - 5s 22ms/step - loss: 0.0723 - accuracy: 0.9076 - val_loss: 0.0485 - val_accuracy: 0.9400\n",
      "Epoch 22/50\n",
      "225/225 [==============================] - 5s 22ms/step - loss: 0.0641 - accuracy: 0.9208 - val_loss: 0.0412 - val_accuracy: 0.9490\n",
      "Epoch 23/50\n",
      "225/225 [==============================] - 5s 22ms/step - loss: 0.0563 - accuracy: 0.9313 - val_loss: 0.0356 - val_accuracy: 0.9594\n",
      "Epoch 24/50\n",
      "225/225 [==============================] - 5s 23ms/step - loss: 0.0520 - accuracy: 0.9374 - val_loss: 0.0348 - val_accuracy: 0.9603\n",
      "Epoch 25/50\n",
      "225/225 [==============================] - 5s 22ms/step - loss: 0.0458 - accuracy: 0.9459 - val_loss: 0.0339 - val_accuracy: 0.9602\n",
      "Epoch 26/50\n",
      "225/225 [==============================] - 5s 22ms/step - loss: 0.0435 - accuracy: 0.9496 - val_loss: 0.0263 - val_accuracy: 0.9698\n",
      "Epoch 27/50\n",
      "225/225 [==============================] - 5s 22ms/step - loss: 0.0381 - accuracy: 0.9557 - val_loss: 0.0240 - val_accuracy: 0.9725\n",
      "Epoch 28/50\n",
      "225/225 [==============================] - 5s 22ms/step - loss: 0.0359 - accuracy: 0.9588 - val_loss: 0.0244 - val_accuracy: 0.9711\n",
      "Epoch 29/50\n",
      "225/225 [==============================] - 5s 22ms/step - loss: 0.0366 - accuracy: 0.9592 - val_loss: 0.0239 - val_accuracy: 0.9714\n",
      "Epoch 30/50\n",
      "225/225 [==============================] - 5s 23ms/step - loss: 0.0382 - accuracy: 0.9559 - val_loss: 0.0234 - val_accuracy: 0.9731\n",
      "Epoch 31/50\n",
      "225/225 [==============================] - 5s 23ms/step - loss: 0.0331 - accuracy: 0.9633 - val_loss: 0.0200 - val_accuracy: 0.9761\n",
      "Epoch 32/50\n",
      "225/225 [==============================] - 5s 22ms/step - loss: 0.0318 - accuracy: 0.9653 - val_loss: 0.0185 - val_accuracy: 0.9791\n",
      "Epoch 33/50\n",
      "225/225 [==============================] - 5s 22ms/step - loss: 0.0259 - accuracy: 0.9724 - val_loss: 0.0112 - val_accuracy: 0.9889\n",
      "Epoch 34/50\n",
      "225/225 [==============================] - 5s 22ms/step - loss: 0.0257 - accuracy: 0.9722 - val_loss: 0.0199 - val_accuracy: 0.9771\n",
      "Epoch 35/50\n",
      "225/225 [==============================] - 5s 23ms/step - loss: 0.0307 - accuracy: 0.9672 - val_loss: 0.0233 - val_accuracy: 0.9722\n",
      "Epoch 36/50\n",
      "225/225 [==============================] - 5s 22ms/step - loss: 0.0286 - accuracy: 0.9681 - val_loss: 0.0153 - val_accuracy: 0.9831\n",
      "Epoch 37/50\n",
      "225/225 [==============================] - 5s 23ms/step - loss: 0.0297 - accuracy: 0.9674 - val_loss: 0.0181 - val_accuracy: 0.9795\n",
      "Epoch 38/50\n",
      "225/225 [==============================] - 5s 22ms/step - loss: 0.0265 - accuracy: 0.9711 - val_loss: 0.0167 - val_accuracy: 0.9812\n",
      "Epoch 39/50\n",
      "225/225 [==============================] - 5s 22ms/step - loss: 0.0269 - accuracy: 0.9715 - val_loss: 0.0221 - val_accuracy: 0.9758\n",
      "Epoch 40/50\n",
      "225/225 [==============================] - 5s 22ms/step - loss: 0.0285 - accuracy: 0.9686 - val_loss: 0.0143 - val_accuracy: 0.9841\n",
      "Epoch 41/50\n",
      "225/225 [==============================] - 5s 23ms/step - loss: 0.0270 - accuracy: 0.9711 - val_loss: 0.0171 - val_accuracy: 0.9811\n",
      "Epoch 42/50\n",
      "225/225 [==============================] - 5s 22ms/step - loss: 0.0248 - accuracy: 0.9731 - val_loss: 0.0208 - val_accuracy: 0.9768\n",
      "Epoch 43/50\n",
      "225/225 [==============================] - 5s 23ms/step - loss: 0.0265 - accuracy: 0.9722 - val_loss: 0.0146 - val_accuracy: 0.9837\n",
      "Epoch 44/50\n",
      "225/225 [==============================] - 5s 23ms/step - loss: 0.0220 - accuracy: 0.9774 - val_loss: 0.0180 - val_accuracy: 0.9798\n",
      "Epoch 45/50\n",
      "225/225 [==============================] - 5s 22ms/step - loss: 0.0221 - accuracy: 0.9753 - val_loss: 0.0147 - val_accuracy: 0.9839\n",
      "Epoch 46/50\n",
      "225/225 [==============================] - 5s 22ms/step - loss: 0.0232 - accuracy: 0.9751 - val_loss: 0.0175 - val_accuracy: 0.9794\n",
      "Epoch 47/50\n",
      "225/225 [==============================] - 5s 23ms/step - loss: 0.0205 - accuracy: 0.9786 - val_loss: 0.0154 - val_accuracy: 0.9830\n",
      "Epoch 48/50\n",
      "225/225 [==============================] - 5s 22ms/step - loss: 0.0209 - accuracy: 0.9780 - val_loss: 0.0117 - val_accuracy: 0.9877\n",
      "Epoch 49/50\n",
      "225/225 [==============================] - 5s 22ms/step - loss: 0.0230 - accuracy: 0.9754 - val_loss: 0.0123 - val_accuracy: 0.9855\n",
      "Epoch 50/50\n",
      "225/225 [==============================] - 5s 22ms/step - loss: 0.0219 - accuracy: 0.9765 - val_loss: 0.0155 - val_accuracy: 0.9814\n"
     ]
    }
   ],
   "source": [
    "history = model.fit(X_train, y_train, batch_size=128, callbacks=lr_reduce, validation_data=(X_train,y_train), epochs = 50)"
   ]
  },
  {
   "cell_type": "code",
   "execution_count": 15,
   "id": "69074d91",
   "metadata": {
    "execution": {
     "iopub.execute_input": "2021-11-30T13:56:54.968700Z",
     "iopub.status.busy": "2021-11-30T13:56:54.968128Z",
     "iopub.status.idle": "2021-11-30T13:57:00.363889Z",
     "shell.execute_reply": "2021-11-30T13:57:00.363266Z",
     "shell.execute_reply.started": "2021-11-30T13:50:51.015985Z"
    },
    "papermill": {
     "duration": 6.290891,
     "end_time": "2021-11-30T13:57:00.364058",
     "exception": false,
     "start_time": "2021-11-30T13:56:54.073167",
     "status": "completed"
    },
    "tags": []
   },
   "outputs": [
    {
     "name": "stdout",
     "output_type": "stream",
     "text": [
      "898/898 [==============================] - 3s 3ms/step - loss: 0.0155 - accuracy: 0.9814\n",
      "Accuracy of our model on validation data :  98.14344048500061 %\n"
     ]
    }
   ],
   "source": [
    "# computing the accuracy\n",
    "print(\"Accuracy of our model on validation data : \" , model.evaluate(X_train,y_train)[1]*100 , \"%\")"
   ]
  },
  {
   "cell_type": "code",
   "execution_count": 16,
   "id": "f710c340",
   "metadata": {
    "execution": {
     "iopub.execute_input": "2021-11-30T13:57:02.392485Z",
     "iopub.status.busy": "2021-11-30T13:57:02.387471Z",
     "iopub.status.idle": "2021-11-30T13:57:02.861424Z",
     "shell.execute_reply": "2021-11-30T13:57:02.861943Z",
     "shell.execute_reply.started": "2021-11-30T13:50:54.452547Z"
    },
    "papermill": {
     "duration": 1.448063,
     "end_time": "2021-11-30T13:57:02.862092",
     "exception": false,
     "start_time": "2021-11-30T13:57:01.414029",
     "status": "completed"
    },
    "tags": []
   },
   "outputs": [
    {
     "data": {
      "image/png": "[encoded data removed]",
      "text/plain": [
       "<Figure size 432x288 with 1 Axes>"
      ]
     },
     "metadata": {},
     "output_type": "display_data"
    },
    {
     "data": {
      "image/png": "[encoded data removed]",
      "text/plain": [
       "<Figure size 432x288 with 1 Axes>"
      ]
     },
     "metadata": {},
     "output_type": "display_data"
    }
   ],
   "source": [
    "plt.plot(history.history['accuracy'])\n",
    "plt.plot(history.history['val_accuracy'])\n",
    "plt.title('model accuracy')\n",
    "plt.ylabel('accuracy')\n",
    "plt.xlabel('epoch')\n",
    "plt.legend(['train', 'test'], loc='upper left')\n",
    "plt.show()\n",
    "# summarize history for loss\n",
    "plt.plot(history.history['loss'])\n",
    "plt.plot(history.history['val_loss'])\n",
    "plt.title('model loss')\n",
    "plt.ylabel('loss')\n",
    "plt.xlabel('epoch')\n",
    "plt.legend(['train', 'test'], loc='upper left')\n",
    "plt.show()"
   ]
  },
  {
   "cell_type": "code",
   "execution_count": 17,
   "id": "d85cd702",
   "metadata": {
    "execution": {
     "iopub.execute_input": "2021-11-30T13:57:04.678696Z",
     "iopub.status.busy": "2021-11-30T13:57:04.677755Z",
     "iopub.status.idle": "2021-11-30T13:57:05.092588Z",
     "shell.execute_reply": "2021-11-30T13:57:05.093072Z",
     "shell.execute_reply.started": "2021-11-30T13:50:54.953346Z"
    },
    "papermill": {
     "duration": 1.32517,
     "end_time": "2021-11-30T13:57:05.093266",
     "exception": false,
     "start_time": "2021-11-30T13:57:03.768096",
     "status": "completed"
    },
    "tags": []
   },
   "outputs": [],
   "source": [
    "y_pred = model.predict(X_test)\n",
    "y_pred = np.round(y_pred).astype(int)"
   ]
  },
  {
   "cell_type": "code",
   "execution_count": 18,
   "id": "51d456e6",
   "metadata": {
    "execution": {
     "iopub.execute_input": "2021-11-30T13:57:06.919257Z",
     "iopub.status.busy": "2021-11-30T13:57:06.916915Z",
     "iopub.status.idle": "2021-11-30T13:57:06.931201Z",
     "shell.execute_reply": "2021-11-30T13:57:06.931757Z",
     "shell.execute_reply.started": "2021-11-30T13:50:55.388366Z"
    },
    "papermill": {
     "duration": 0.926219,
     "end_time": "2021-11-30T13:57:06.931910",
     "exception": false,
     "start_time": "2021-11-30T13:57:06.005691",
     "status": "completed"
    },
    "tags": []
   },
   "outputs": [
    {
     "data": {
      "text/html": [
       "<div>\n",
       "<style scoped>\n",
       "    .dataframe tbody tr th:only-of-type {\n",
       "        vertical-align: middle;\n",
       "    }\n",
       "\n",
       "    .dataframe tbody tr th {\n",
       "        vertical-align: top;\n",
       "    }\n",
       "\n",
       "    .dataframe thead th {\n",
       "        text-align: right;\n",
       "    }\n",
       "</style>\n",
       "<table border=\"1\" class=\"dataframe\">\n",
       "  <thead>\n",
       "    <tr style=\"text-align: right;\">\n",
       "      <th></th>\n",
       "      <th>Predicted Labels</th>\n",
       "      <th>Actual Labels</th>\n",
       "    </tr>\n",
       "  </thead>\n",
       "  <tbody>\n",
       "    <tr>\n",
       "      <th>0</th>\n",
       "      <td>1</td>\n",
       "      <td>1.0</td>\n",
       "    </tr>\n",
       "    <tr>\n",
       "      <th>1</th>\n",
       "      <td>0</td>\n",
       "      <td>0.0</td>\n",
       "    </tr>\n",
       "    <tr>\n",
       "      <th>2</th>\n",
       "      <td>0</td>\n",
       "      <td>0.0</td>\n",
       "    </tr>\n",
       "    <tr>\n",
       "      <th>3</th>\n",
       "      <td>0</td>\n",
       "      <td>0.0</td>\n",
       "    </tr>\n",
       "    <tr>\n",
       "      <th>4</th>\n",
       "      <td>0</td>\n",
       "      <td>0.0</td>\n",
       "    </tr>\n",
       "    <tr>\n",
       "      <th>5</th>\n",
       "      <td>0</td>\n",
       "      <td>0.0</td>\n",
       "    </tr>\n",
       "    <tr>\n",
       "      <th>6</th>\n",
       "      <td>0</td>\n",
       "      <td>0.0</td>\n",
       "    </tr>\n",
       "    <tr>\n",
       "      <th>7</th>\n",
       "      <td>0</td>\n",
       "      <td>0.0</td>\n",
       "    </tr>\n",
       "    <tr>\n",
       "      <th>8</th>\n",
       "      <td>0</td>\n",
       "      <td>0.0</td>\n",
       "    </tr>\n",
       "    <tr>\n",
       "      <th>9</th>\n",
       "      <td>0</td>\n",
       "      <td>0.0</td>\n",
       "    </tr>\n",
       "  </tbody>\n",
       "</table>\n",
       "</div>"
      ],
      "text/plain": [
       "   Predicted Labels  Actual Labels\n",
       "0                 1            1.0\n",
       "1                 0            0.0\n",
       "2                 0            0.0\n",
       "3                 0            0.0\n",
       "4                 0            0.0\n",
       "5                 0            0.0\n",
       "6                 0            0.0\n",
       "7                 0            0.0\n",
       "8                 0            0.0\n",
       "9                 0            0.0"
      ]
     },
     "execution_count": 18,
     "metadata": {},
     "output_type": "execute_result"
    }
   ],
   "source": [
    "df = pd.DataFrame(columns=['Predicted Labels', 'Actual Labels'])\n",
    "df['Predicted Labels'] = y_pred.flatten()\n",
    "df['Actual Labels'] = y_test.flatten()\n",
    "\n",
    "df.head(10)"
   ]
  },
  {
   "cell_type": "code",
   "execution_count": 19,
   "id": "12bde405",
   "metadata": {
    "execution": {
     "iopub.execute_input": "2021-11-30T13:57:08.772150Z",
     "iopub.status.busy": "2021-11-30T13:57:08.771278Z",
     "iopub.status.idle": "2021-11-30T13:57:08.773833Z",
     "shell.execute_reply": "2021-11-30T13:57:08.773398Z",
     "shell.execute_reply.started": "2021-11-30T13:50:55.411650Z"
    },
    "papermill": {
     "duration": 0.923632,
     "end_time": "2021-11-30T13:57:08.773950",
     "exception": false,
     "start_time": "2021-11-30T13:57:07.850318",
     "status": "completed"
    },
    "tags": []
   },
   "outputs": [],
   "source": [
    "# model_name = 'Human_Emotion_Model.h5'\n",
    "# save_dir = os.path.join(os.getcwd(), 'saved_models')\n",
    "# # Save model and weights\n",
    "# if not os.path.isdir(save_dir):\n",
    "#     os.makedirs(save_dir)\n",
    "# model_path = os.path.join(save_dir, model_name)\n",
    "# model.save(model_path)\n",
    "# print('Saved trained model at %s ' % model_path)"
   ]
  },
  {
   "cell_type": "code",
   "execution_count": 20,
   "id": "295a68bd",
   "metadata": {
    "execution": {
     "iopub.execute_input": "2021-11-30T13:57:10.650515Z",
     "iopub.status.busy": "2021-11-30T13:57:10.649808Z",
     "iopub.status.idle": "2021-11-30T13:57:10.676702Z",
     "shell.execute_reply": "2021-11-30T13:57:10.677111Z",
     "shell.execute_reply.started": "2021-11-30T13:50:55.417642Z"
    },
    "papermill": {
     "duration": 0.997956,
     "end_time": "2021-11-30T13:57:10.677272",
     "exception": false,
     "start_time": "2021-11-30T13:57:09.679316",
     "status": "completed"
    },
    "tags": []
   },
   "outputs": [],
   "source": [
    "#Saving the  model to  use it later on  \n",
    "fer_json = model.to_json()  \n",
    "with open(\"fer.json\", \"w\") as json_file:  \n",
    "    json_file.write(fer_json)  \n",
    "model.save_weights(\"fer.h5\") "
   ]
  }
 ],
 "metadata": {
  "kernelspec": {
   "display_name": "Python 3",
   "language": "python",
   "name": "python3"
  },
  "language_info": {
   "codemirror_mode": {
    "name": "ipython",
    "version": 3
   },
   "file_extension": ".py",
   "mimetype": "text/x-python",
   "name": "python",
   "nbconvert_exporter": "python",
   "pygments_lexer": "ipython3",
   "version": "3.7.10"
  },
  "papermill": {
   "default_parameters": {},
   "duration": 333.759243,
   "end_time": "2021-11-30T13:57:14.896532",
   "environment_variables": {},
   "exception": null,
   "input_path": "__notebook__.ipynb",
   "output_path": "__notebook__.ipynb",
   "parameters": {},
   "start_time": "2021-11-30T13:51:41.137289",
   "version": "2.3.3"
  }
 },
 "nbformat": 4,
 "nbformat_minor": 5
}
